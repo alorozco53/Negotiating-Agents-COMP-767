{
 "cells": [
  {
   "cell_type": "code",
   "execution_count": 1,
   "metadata": {},
   "outputs": [],
   "source": [
    "import pdb\n",
    "import re\n",
    "import random\n",
    "import utils\n",
    "import numpy as np\n",
    "import torch\n",
    "import torch.nn as nn\n",
    "import domain\n",
    "import pandas as pd\n",
    "\n",
    "from torch import optim\n",
    "from torch import autograd\n",
    "from ipywidgets import interact\n",
    "from agent import *\n",
    "from utils import ContextGenerator\n",
    "from dialog import Dialog, DialogLogger\n",
    "from models.rnn_model import RnnModel\n",
    "from models.latent_clustering_model import LatentClusteringPredictionModel, BaselineClusteringModel\n",
    "from agent import RnnAgent, RnnRolloutAgent, RlAgent, HierarchicalAgent\n",
    "from domain import get_domain\n",
    "from nltk import ngrams\n",
    "from tqdm.notebook import tqdm"
   ]
  },
  {
   "cell_type": "code",
   "execution_count": 2,
   "metadata": {},
   "outputs": [],
   "source": [
    "def get_agent_type(model, smart=False):\n",
    "    if isinstance(model, LatentClusteringPredictionModel):\n",
    "        if smart:\n",
    "            return LatentClusteringRolloutAgent\n",
    "        else:\n",
    "            return LatentClusteringAgent\n",
    "    elif isinstance(model, RnnModel):\n",
    "        if smart:\n",
    "            return RnnRolloutAgent\n",
    "        else:\n",
    "            return RnnAgent\n",
    "    elif isinstance(model, BaselineClusteringModel):\n",
    "        if smart:\n",
    "            return BaselineClusteringRolloutAgent\n",
    "        else:\n",
    "            return BaselineClusteringAgent\n",
    "    else:\n",
    "        assert False, 'unknown model type: %s' % (model)"
   ]
  },
  {
   "cell_type": "code",
   "execution_count": 3,
   "metadata": {},
   "outputs": [],
   "source": [
    "class Arguments:\n",
    "    alice_model_file = 'rnn_model.th'\n",
    "    alice_forward_model_file = ''\n",
    "    bob_model_file = 'rnn_model.th'\n",
    "    bob_forward_model_file = ''\n",
    "    context_file = 'data/negotiate/selfplay.txt'\n",
    "    temperature = 0.5\n",
    "    pred_temperature =1.0\n",
    "    verbose = False\n",
    "    seed = 1\n",
    "    score_threshold = 6\n",
    "    max_turns = 20\n",
    "    log_file = ''\n",
    "    smart_alice = False\n",
    "    diverse_alice = False\n",
    "    rollout_bsz = 3\n",
    "    rollout_count_threshold = 3\n",
    "    smart_bob = False\n",
    "    selection_model_file = 'selection_model.th'\n",
    "    rollout_model_file = ''\n",
    "    diverse_bob = False\n",
    "    cuda = True\n",
    "    domain = 'object_division'\n",
    "    visual = False\n",
    "    eps = 0.0\n",
    "    data = 'data/negotiate'\n",
    "    unk_threshold = 20\n",
    "    bsz = 16\n",
    "    validate = False\n",
    "    ref_text = ''\n",
    "    rl_lr = 0.002\n",
    "    rl_clip = 2.0\n",
    "    lr = 0.1\n",
    "    gamma = 0.99\n",
    "    eps = 0.5\n",
    "    clip = 0.1\n",
    "    momentum = 0.1\n",
    "    sep_sel = True\n",
    "    unk_threshold = 20\n",
    "    sv_train_freq = 1\n",
    "    \n",
    "args = Arguments()"
   ]
  },
  {
   "cell_type": "code",
   "execution_count": 4,
   "metadata": {},
   "outputs": [],
   "source": [
    "utils.use_cuda(args.cuda)\n",
    "utils.set_seed(args.seed)"
   ]
  },
  {
   "cell_type": "code",
   "execution_count": 5,
   "metadata": {},
   "outputs": [],
   "source": [
    "alice_model = utils.load_model(args.alice_model_file)\n",
    "alice_ty = get_agent_type(alice_model, args.smart_alice)\n",
    "alice = alice_ty(alice_model, args, name='Alice', train=True, diverse=args.diverse_alice)\n",
    "alice.vis = args.visual\n",
    "\n",
    "bob_model = utils.load_model(args.bob_model_file)\n",
    "bob_ty = get_agent_type(bob_model, args.smart_bob)\n",
    "bob = bob_ty(bob_model, args, name='Bob', train=False, diverse=args.diverse_bob)\n",
    "bob.vis = False"
   ]
  },
  {
   "cell_type": "code",
   "execution_count": 6,
   "metadata": {},
   "outputs": [],
   "source": [
    "dialog = Dialog([alice, bob], args)\n",
    "logger = DialogLogger(verbose=args.verbose, log_file=args.log_file)\n",
    "ctx_gen = ContextGenerator(args.context_file)\n",
    "\n",
    "#dialog2 = Dialog([alice, joe], args)\n",
    "domain = get_domain(args.domain)\n",
    "corpus = alice_model.corpus_ty(domain, args.data, freq_cutoff=args.unk_threshold,\n",
    "                               verbose=True, sep_sel=args.sep_sel)\n",
    "engine = alice_model.engine_ty(alice_model, args)\n",
    "alice.engine = engine"
   ]
  },
  {
   "cell_type": "code",
   "execution_count": 7,
   "metadata": {},
   "outputs": [],
   "source": [
    "validset, validset_stats = corpus.valid_dataset(args.bsz)\n",
    "trainset, trainset_stats = corpus.train_dataset(args.bsz)"
   ]
  },
  {
   "cell_type": "code",
   "execution_count": 8,
   "metadata": {},
   "outputs": [
    {
     "name": "stdout",
     "output_type": "stream",
     "text": [
      "W&B Run: https://app.wandb.ai/tropdeep/goal-based-negotiating-agents/runs/rcrhg38y"
     ]
    }
   ],
   "source": [
    "import wandb\n",
    "\n",
    "wandb.init(project=\"goal-based-negotiating-agents\")"
   ]
  }
 ],
 "metadata": {
  "kernelspec": {
   "display_name": "Python 3",
   "language": "python",
   "name": "python3"
  },
  "language_info": {
   "codemirror_mode": {
    "name": "ipython",
    "version": 3
   },
   "file_extension": ".py",
   "mimetype": "text/x-python",
   "name": "python",
   "nbconvert_exporter": "python",
   "pygments_lexer": "ipython3",
   "version": "3.7.4"
  }
 },
 "nbformat": 4,
 "nbformat_minor": 2
}
